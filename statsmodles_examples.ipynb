{
 "cells": [
  {
   "cell_type": "markdown",
   "id": "aac18f7e-f4c1-4d10-9e58-c90038fabbc4",
   "metadata": {},
   "source": [
    "# observations of brain size and weight and IQ (Willerman et al. 1991), the data are a mixture of numerical and categorical values:"
   ]
  },
  {
   "cell_type": "code",
   "execution_count": 37,
   "id": "2ed2b1cd-1007-4e7a-9dd8-f75ef0629e3b",
   "metadata": {},
   "outputs": [
    {
     "name": "stdout",
     "output_type": "stream",
     "text": [
      "    Unnamed: 0  Gender  FSIQ  VIQ  PIQ  Weight  Height  MRI_Count\n",
      "0            1  Female   133  132  124   118.0    64.5     816932\n",
      "1            2    Male   140  150  124     NaN    72.5    1001121\n",
      "2            3    Male   139  123  150   143.0    73.3    1038437\n",
      "3            4    Male   133  129  128   172.0    68.8     965353\n",
      "4            5  Female   137  132  134   147.0    65.0     951545\n",
      "5            6  Female    99   90  110   146.0    69.0     928799\n",
      "6            7  Female   138  136  131   138.0    64.5     991305\n",
      "7            8  Female    92   90   98   175.0    66.0     854258\n",
      "8            9    Male    89   93   84   134.0    66.3     904858\n",
      "9           10    Male   133  114  147   172.0    68.8     955466\n",
      "10          11  Female   132  129  124   118.0    64.5     833868\n",
      "11          12    Male   141  150  128   151.0    70.0    1079549\n",
      "12          13    Male   135  129  124   155.0    69.0     924059\n",
      "13          14  Female   140  120  147   155.0    70.5     856472\n",
      "14          15  Female    96  100   90   146.0    66.0     878897\n",
      "15          16  Female    83   71   96   135.0    68.0     865363\n",
      "16          17  Female   132  132  120   127.0    68.5     852244\n",
      "17          18    Male   100   96  102   178.0    73.5     945088\n",
      "18          19  Female   101  112   84   136.0    66.3     808020\n",
      "19          20    Male    80   77   86   180.0    70.0     889083\n",
      "20          21    Male    83   83   86     NaN     NaN     892420\n",
      "21          22    Male    97  107   84   186.0    76.5     905940\n",
      "22          23  Female   135  129  134   122.0    62.0     790619\n",
      "23          24    Male   139  145  128   132.0    68.0     955003\n",
      "24          25  Female    91   86  102   114.0    63.0     831772\n",
      "25          26    Male   141  145  131   171.0    72.0     935494\n",
      "26          27  Female    85   90   84   140.0    68.0     798612\n",
      "27          28    Male   103   96  110   187.0    77.0    1062462\n",
      "28          29  Female    77   83   72   106.0    63.0     793549\n",
      "29          30  Female   130  126  124   159.0    66.5     866662\n",
      "30          31  Female   133  126  132   127.0    62.5     857782\n",
      "31          32    Male   144  145  137   191.0    67.0     949589\n",
      "32          33    Male   103   96  110   192.0    75.5     997925\n",
      "33          34    Male    90   96   86   181.0    69.0     879987\n",
      "34          35  Female    83   90   81   143.0    66.5     834344\n",
      "35          36  Female   133  129  128   153.0    66.5     948066\n",
      "36          37    Male   140  150  124   144.0    70.5     949395\n",
      "37          38  Female    88   86   94   139.0    64.5     893983\n",
      "38          39    Male    81   90   74   148.0    74.0     930016\n",
      "39          40    Male    89   91   89   179.0    75.5     935863\n"
     ]
    }
   ],
   "source": [
    "%matplotlib inline\n",
    "import matplotlib.pyplot as plt\n",
    "\n",
    "import pandas as pd\n",
    "\n",
    "data = pd.read_csv('data/brain_size.csv', sep=';', na_values=\".\")\n",
    "print(data)"
   ]
  },
  {
   "cell_type": "code",
   "execution_count": 38,
   "id": "217f843c-01ae-4c83-b2b8-58f0027ad050",
   "metadata": {},
   "outputs": [
    {
     "name": "stdout",
     "output_type": "stream",
     "text": [
      "Shape;  (40, 8)\n",
      "\n",
      "\n",
      "Index(['Unnamed: 0', 'Gender', 'FSIQ', 'VIQ', 'PIQ', 'Weight', 'Height',\n",
      "       'MRI_Count'],\n",
      "      dtype='object')\n",
      "0     Female\n",
      "1       Male\n",
      "2       Male\n",
      "3       Male\n",
      "4     Female\n",
      "5     Female\n",
      "6     Female\n",
      "7     Female\n",
      "8       Male\n",
      "9       Male\n",
      "10    Female\n",
      "11      Male\n",
      "12      Male\n",
      "13    Female\n",
      "14    Female\n",
      "15    Female\n",
      "16    Female\n",
      "17      Male\n",
      "18    Female\n",
      "19      Male\n",
      "20      Male\n",
      "21      Male\n",
      "22    Female\n",
      "23      Male\n",
      "24    Female\n",
      "25      Male\n",
      "26    Female\n",
      "27      Male\n",
      "28    Female\n",
      "29    Female\n",
      "30    Female\n",
      "31      Male\n",
      "32      Male\n",
      "33      Male\n",
      "34    Female\n",
      "35    Female\n",
      "36      Male\n",
      "37    Female\n",
      "38      Male\n",
      "39      Male\n",
      "Name: Gender, dtype: object\n"
     ]
    }
   ],
   "source": [
    "print(\"Shape; \",data.shape) \n",
    "print(\"\\n\")\n",
    "print(data.columns)\n",
    "print(data['Gender'])"
   ]
  },
  {
   "cell_type": "code",
   "execution_count": 39,
   "id": "978c9c65-462f-4964-a57d-b2b7f835663e",
   "metadata": {},
   "outputs": [
    {
     "data": {
      "text/html": [
       "<div>\n",
       "<style scoped>\n",
       "    .dataframe tbody tr th:only-of-type {\n",
       "        vertical-align: middle;\n",
       "    }\n",
       "\n",
       "    .dataframe tbody tr th {\n",
       "        vertical-align: top;\n",
       "    }\n",
       "\n",
       "    .dataframe thead th {\n",
       "        text-align: right;\n",
       "    }\n",
       "</style>\n",
       "<table border=\"1\" class=\"dataframe\">\n",
       "  <thead>\n",
       "    <tr style=\"text-align: right;\">\n",
       "      <th></th>\n",
       "      <th>Unnamed: 0</th>\n",
       "      <th>FSIQ</th>\n",
       "      <th>VIQ</th>\n",
       "      <th>PIQ</th>\n",
       "      <th>Weight</th>\n",
       "      <th>Height</th>\n",
       "      <th>MRI_Count</th>\n",
       "    </tr>\n",
       "  </thead>\n",
       "  <tbody>\n",
       "    <tr>\n",
       "      <th>count</th>\n",
       "      <td>40.000000</td>\n",
       "      <td>40.000000</td>\n",
       "      <td>40.000000</td>\n",
       "      <td>40.00000</td>\n",
       "      <td>38.000000</td>\n",
       "      <td>39.000000</td>\n",
       "      <td>4.000000e+01</td>\n",
       "    </tr>\n",
       "    <tr>\n",
       "      <th>mean</th>\n",
       "      <td>20.500000</td>\n",
       "      <td>113.450000</td>\n",
       "      <td>112.350000</td>\n",
       "      <td>111.02500</td>\n",
       "      <td>151.052632</td>\n",
       "      <td>68.525641</td>\n",
       "      <td>9.087550e+05</td>\n",
       "    </tr>\n",
       "    <tr>\n",
       "      <th>std</th>\n",
       "      <td>11.690452</td>\n",
       "      <td>24.082071</td>\n",
       "      <td>23.616107</td>\n",
       "      <td>22.47105</td>\n",
       "      <td>23.478509</td>\n",
       "      <td>3.994649</td>\n",
       "      <td>7.228205e+04</td>\n",
       "    </tr>\n",
       "    <tr>\n",
       "      <th>min</th>\n",
       "      <td>1.000000</td>\n",
       "      <td>77.000000</td>\n",
       "      <td>71.000000</td>\n",
       "      <td>72.00000</td>\n",
       "      <td>106.000000</td>\n",
       "      <td>62.000000</td>\n",
       "      <td>7.906190e+05</td>\n",
       "    </tr>\n",
       "    <tr>\n",
       "      <th>25%</th>\n",
       "      <td>10.750000</td>\n",
       "      <td>89.750000</td>\n",
       "      <td>90.000000</td>\n",
       "      <td>88.25000</td>\n",
       "      <td>135.250000</td>\n",
       "      <td>66.000000</td>\n",
       "      <td>8.559185e+05</td>\n",
       "    </tr>\n",
       "    <tr>\n",
       "      <th>50%</th>\n",
       "      <td>20.500000</td>\n",
       "      <td>116.500000</td>\n",
       "      <td>113.000000</td>\n",
       "      <td>115.00000</td>\n",
       "      <td>146.500000</td>\n",
       "      <td>68.000000</td>\n",
       "      <td>9.053990e+05</td>\n",
       "    </tr>\n",
       "    <tr>\n",
       "      <th>75%</th>\n",
       "      <td>30.250000</td>\n",
       "      <td>135.500000</td>\n",
       "      <td>129.750000</td>\n",
       "      <td>128.00000</td>\n",
       "      <td>172.000000</td>\n",
       "      <td>70.500000</td>\n",
       "      <td>9.500780e+05</td>\n",
       "    </tr>\n",
       "    <tr>\n",
       "      <th>max</th>\n",
       "      <td>40.000000</td>\n",
       "      <td>144.000000</td>\n",
       "      <td>150.000000</td>\n",
       "      <td>150.00000</td>\n",
       "      <td>192.000000</td>\n",
       "      <td>77.000000</td>\n",
       "      <td>1.079549e+06</td>\n",
       "    </tr>\n",
       "  </tbody>\n",
       "</table>\n",
       "</div>"
      ],
      "text/plain": [
       "       Unnamed: 0        FSIQ         VIQ        PIQ      Weight     Height  \\\n",
       "count   40.000000   40.000000   40.000000   40.00000   38.000000  39.000000   \n",
       "mean    20.500000  113.450000  112.350000  111.02500  151.052632  68.525641   \n",
       "std     11.690452   24.082071   23.616107   22.47105   23.478509   3.994649   \n",
       "min      1.000000   77.000000   71.000000   72.00000  106.000000  62.000000   \n",
       "25%     10.750000   89.750000   90.000000   88.25000  135.250000  66.000000   \n",
       "50%     20.500000  116.500000  113.000000  115.00000  146.500000  68.000000   \n",
       "75%     30.250000  135.500000  129.750000  128.00000  172.000000  70.500000   \n",
       "max     40.000000  144.000000  150.000000  150.00000  192.000000  77.000000   \n",
       "\n",
       "          MRI_Count  \n",
       "count  4.000000e+01  \n",
       "mean   9.087550e+05  \n",
       "std    7.228205e+04  \n",
       "min    7.906190e+05  \n",
       "25%    8.559185e+05  \n",
       "50%    9.053990e+05  \n",
       "75%    9.500780e+05  \n",
       "max    1.079549e+06  "
      ]
     },
     "execution_count": 39,
     "metadata": {},
     "output_type": "execute_result"
    }
   ],
   "source": [
    "data.describe()"
   ]
  },
  {
   "cell_type": "code",
   "execution_count": 40,
   "id": "8057edb9-18f6-4c7e-a8a0-b4d9c6b697f0",
   "metadata": {},
   "outputs": [
    {
     "name": "stdout",
     "output_type": "stream",
     "text": [
      "('Female', 109.45)\n",
      "('Male', 115.25)\n",
      "Gender  Unnamed: 0  FSIQ  VIQ  PIQ  Weight  Height  MRI_Count\n",
      "Female  1           133   132  124  118.0   64.5    816932       1\n",
      "        5           137   132  134  147.0   65.0    951545       1\n",
      "        38          88    86   94   139.0   64.5    893983       1\n",
      "        36          133   129  128  153.0   66.5    948066       1\n",
      "        35          83    90   81   143.0   66.5    834344       1\n",
      "        6           99    90   110  146.0   69.0    928799       1\n",
      "        7           138   136  131  138.0   64.5    991305       1\n",
      "        8           92    90   98   175.0   66.0    854258       1\n",
      "        11          132   129  124  118.0   64.5    833868       1\n",
      "        14          140   120  147  155.0   70.5    856472       1\n",
      "        15          96    100  90   146.0   66.0    878897       1\n",
      "        16          83    71   96   135.0   68.0    865363       1\n",
      "        17          132   132  120  127.0   68.5    852244       1\n",
      "        19          101   112  84   136.0   66.3    808020       1\n",
      "        23          135   129  134  122.0   62.0    790619       1\n",
      "        25          91    86   102  114.0   63.0    831772       1\n",
      "        27          85    90   84   140.0   68.0    798612       1\n",
      "        29          77    83   72   106.0   63.0    793549       1\n",
      "        30          130   126  124  159.0   66.5    866662       1\n",
      "        31          133   126  132  127.0   62.5    857782       1\n",
      "Male    22          97    107  84   186.0   76.5    905940       1\n",
      "        4           133   129  128  172.0   68.8    965353       1\n",
      "        9           89    93   84   134.0   66.3    904858       1\n",
      "        10          133   114  147  172.0   68.8    955466       1\n",
      "        12          141   150  128  151.0   70.0    1079549      1\n",
      "        13          135   129  124  155.0   69.0    924059       1\n",
      "        18          100   96   102  178.0   73.5    945088       1\n",
      "        20          80    77   86   180.0   70.0    889083       1\n",
      "        24          139   145  128  132.0   68.0    955003       1\n",
      "        26          141   145  131  171.0   72.0    935494       1\n",
      "        28          103   96   110  187.0   77.0    1062462      1\n",
      "        32          144   145  137  191.0   67.0    949589       1\n",
      "        33          103   96   110  192.0   75.5    997925       1\n",
      "        34          90    96   86   181.0   69.0    879987       1\n",
      "        37          140   150  124  144.0   70.5    949395       1\n",
      "        39          81    90   74   148.0   74.0    930016       1\n",
      "        3           139   123  150  143.0   73.3    1038437      1\n",
      "        40          89    91   89   179.0   75.5    935863       1\n",
      "dtype: int64\n"
     ]
    }
   ],
   "source": [
    "groupby_gender = data.groupby('Gender')\n",
    "for gender, value in groupby_gender['VIQ']:\n",
    "    print((gender, value.mean()))\n",
    "print(groupby_gender.value_counts())"
   ]
  },
  {
   "cell_type": "code",
   "execution_count": 41,
   "id": "40b4210f-0952-40cb-9e48-461bb98d30fc",
   "metadata": {},
   "outputs": [
    {
     "data": {
      "text/plain": [
       "109.45"
      ]
     },
     "execution_count": 41,
     "metadata": {},
     "output_type": "execute_result"
    }
   ],
   "source": [
    "data[data['Gender'] == 'Female']['VIQ'].mean()\n"
   ]
  },
  {
   "cell_type": "code",
   "execution_count": 42,
   "id": "d1e60ff3-2e06-4dc2-b362-3195f04993ed",
   "metadata": {},
   "outputs": [],
   "source": [
    "# Plotting Data "
   ]
  },
  {
   "cell_type": "code",
   "execution_count": 43,
   "id": "ee54b142-df2a-4c26-a02e-9d8466294148",
   "metadata": {
    "collapsed": true,
    "jupyter": {
     "outputs_hidden": true
    },
    "tags": []
   },
   "outputs": [
    {
     "data": {
      "text/plain": [
       "array([[<AxesSubplot: xlabel='Weight', ylabel='Weight'>,\n",
       "        <AxesSubplot: xlabel='Height', ylabel='Weight'>,\n",
       "        <AxesSubplot: xlabel='MRI_Count', ylabel='Weight'>],\n",
       "       [<AxesSubplot: xlabel='Weight', ylabel='Height'>,\n",
       "        <AxesSubplot: xlabel='Height', ylabel='Height'>,\n",
       "        <AxesSubplot: xlabel='MRI_Count', ylabel='Height'>],\n",
       "       [<AxesSubplot: xlabel='Weight', ylabel='MRI_Count'>,\n",
       "        <AxesSubplot: xlabel='Height', ylabel='MRI_Count'>,\n",
       "        <AxesSubplot: xlabel='MRI_Count', ylabel='MRI_Count'>]],\n",
       "      dtype=object)"
      ]
     },
     "execution_count": 43,
     "metadata": {},
     "output_type": "execute_result"
    },
    {
     "data": {
      "image/png": "[encoded data removed]",
      "text/plain": [
       "<Figure size 640x480 with 9 Axes>"
      ]
     },
     "metadata": {},
     "output_type": "display_data"
    }
   ],
   "source": [
    "\n",
    "pd.plotting.scatter_matrix(data[['Weight', 'Height', 'MRI_Count']])  "
   ]
  },
  {
   "cell_type": "code",
   "execution_count": null,
   "id": "29304422-d336-4a19-9133-7199c13b0a06",
   "metadata": {},
   "outputs": [],
   "source": []
  },
  {
   "cell_type": "code",
   "execution_count": 45,
   "id": "4830c3d6-4b49-42af-8539-3ce91b7c70b8",
   "metadata": {},
   "outputs": [],
   "source": [
    "from scipy import stats"
   ]
  },
  {
   "cell_type": "markdown",
   "id": "00b81d9f-6346-4248-82ce-a151fcfd83e0",
   "metadata": {},
   "source": [
    "scipy.stats.ttest_1samp() tests if the population mean of data is likely to be equal to a given value (technically if observations are drawn from a Gaussian distributions of given population mean). It returns the T statistic, and the p-value"
   ]
  },
  {
   "cell_type": "code",
   "execution_count": 48,
   "id": "48824530-ed66-4cfd-9ed6-70914b427ffd",
   "metadata": {},
   "outputs": [
    {
     "data": {
      "text/plain": [
       "Ttest_1sampResult(statistic=30.08809997084933, pvalue=1.3289196468727879e-28)"
      ]
     },
     "execution_count": 48,
     "metadata": {},
     "output_type": "execute_result"
    }
   ],
   "source": [
    "stats.ttest_1samp(data['VIQ'], 0)"
   ]
  },
  {
   "cell_type": "code",
   "execution_count": 49,
   "id": "94bb9918-6ccc-4331-b67f-a669fbe135e1",
   "metadata": {},
   "outputs": [
    {
     "ename": "SyntaxError",
     "evalue": "invalid syntax (2937446056.py, line 1)",
     "output_type": "error",
     "traceback": [
      "\u001b[0;36m  Cell \u001b[0;32mIn [49], line 1\u001b[0;36m\u001b[0m\n\u001b[0;31m    With a p-value of 10^-28 we can claim that the population mean for the IQ (VIQ measure) is not 0.\u001b[0m\n\u001b[0m         ^\u001b[0m\n\u001b[0;31mSyntaxError\u001b[0m\u001b[0;31m:\u001b[0m invalid syntax\n"
     ]
    }
   ],
   "source": [
    "With a p-value of 10^-28 we can claim that the population mean for the IQ (VIQ measure) is not 0."
   ]
  },
  {
   "cell_type": "markdown",
   "id": "e7b8298b-50c0-4fab-87d7-9704a0b4a3bc",
   "metadata": {},
   "source": [
    "We have seen above that the mean VIQ in the male and female populations were different. To test if this is significant, we do a 2-sample t-test with scipy.stats.ttest_ind():"
   ]
  },
  {
   "cell_type": "code",
   "execution_count": 50,
   "id": "b468e833-9c17-4c00-9fcc-d1d01ce0d129",
   "metadata": {},
   "outputs": [
    {
     "data": {
      "text/plain": [
       "Ttest_indResult(statistic=-0.7726161723275012, pvalue=0.44452876778583217)"
      ]
     },
     "execution_count": 50,
     "metadata": {},
     "output_type": "execute_result"
    }
   ],
   "source": [
    "female_viq = data[data['Gender'] == 'Female']['VIQ']\n",
    "male_viq = data[data['Gender'] == 'Male']['VIQ']\n",
    "stats.ttest_ind(female_viq, male_viq)  "
   ]
  },
  {
   "cell_type": "code",
   "execution_count": 51,
   "id": "b5b59435-19c5-4438-bf91-7cdb3b1c0293",
   "metadata": {},
   "outputs": [
    {
     "ename": "SyntaxError",
     "evalue": "invalid syntax (2378804760.py, line 1)",
     "output_type": "error",
     "traceback": [
      "\u001b[0;36m  Cell \u001b[0;32mIn [51], line 1\u001b[0;36m\u001b[0m\n\u001b[0;31m    PIQ, VIQ, and FSIQ give 3 measures of IQ. Let us test if FISQ and PIQ are significantly different. We can use a 2 sample test:\u001b[0m\n\u001b[0m              ^\u001b[0m\n\u001b[0;31mSyntaxError\u001b[0m\u001b[0;31m:\u001b[0m invalid syntax\n"
     ]
    }
   ],
   "source": [
    "PIQ, VIQ, and FSIQ give 3 measures of IQ. Let us test if FISQ and PIQ are significantly different. We can use a 2 sample test:"
   ]
  },
  {
   "cell_type": "code",
   "execution_count": 52,
   "id": "15a53767-c4c3-49d5-9b46-3187a039d2b8",
   "metadata": {},
   "outputs": [
    {
     "data": {
      "text/plain": [
       "Ttest_indResult(statistic=0.465637596380964, pvalue=0.6427725009414841)"
      ]
     },
     "execution_count": 52,
     "metadata": {},
     "output_type": "execute_result"
    }
   ],
   "source": [
    "stats.ttest_ind(data['FSIQ'], data['PIQ']) "
   ]
  },
  {
   "cell_type": "markdown",
   "id": "bf469cbc-629a-4f66-97f7-9e650572db78",
   "metadata": {},
   "source": [
    "The problem with this approach is that it forgets that there are links between observations: FSIQ and PIQ are measured on the same individuals. Thus the variance due to inter-subject variability is confounding, and can be removed, using a “paired test”, or “repeated measures test”:"
   ]
  },
  {
   "cell_type": "code",
   "execution_count": 57,
   "id": "7c80f8bf-cc6b-4c1a-81b4-44051abf7b02",
   "metadata": {},
   "outputs": [
    {
     "data": {
      "text/plain": [
       "Ttest_relResult(statistic=1.7842019405859857, pvalue=0.08217263818364236)"
      ]
     },
     "execution_count": 57,
     "metadata": {},
     "output_type": "execute_result"
    }
   ],
   "source": [
    "stats.ttest_rel(data['FSIQ'], data['PIQ'])   "
   ]
  },
  {
   "cell_type": "markdown",
   "id": "c7790e16-8e41-49a9-8f2e-335336b1f56a",
   "metadata": {},
   "source": [
    "This is equivalent to a 1-sample test on the difference:"
   ]
  },
  {
   "cell_type": "code",
   "execution_count": 58,
   "id": "e33f5069-7f29-45dd-ac79-e2458906abff",
   "metadata": {},
   "outputs": [
    {
     "data": {
      "text/plain": [
       "Ttest_1sampResult(statistic=1.7842019405859857, pvalue=0.08217263818364236)"
      ]
     },
     "execution_count": 58,
     "metadata": {},
     "output_type": "execute_result"
    }
   ],
   "source": [
    "stats.ttest_1samp(data['FSIQ'] - data['PIQ'], 0)   \n"
   ]
  },
  {
   "cell_type": "markdown",
   "id": "7e5a087b-2d63-4e8e-98ba-cc4b9e27ed43",
   "metadata": {},
   "source": [
    "T-tests assume Gaussian errors. We can use a Wilcoxon signed-rank test, that relaxes this assumption:"
   ]
  },
  {
   "cell_type": "code",
   "execution_count": 59,
   "id": "67c82bc0-e6d6-40d2-ac97-f3ed70fcf6fc",
   "metadata": {},
   "outputs": [
    {
     "name": "stderr",
     "output_type": "stream",
     "text": [
      "/Users/thomassonderman/Documents/Git/python_ds_example_functions/pdef/lib/python3.10/site-packages/scipy/stats/_morestats.py:3337: UserWarning: Exact p-value calculation does not work if there are zeros. Switching to normal approximation.\n",
      "  warnings.warn(\"Exact p-value calculation does not work if there are \"\n"
     ]
    },
    {
     "data": {
      "text/plain": [
       "WilcoxonResult(statistic=274.5, pvalue=0.10659492713506856)"
      ]
     },
     "execution_count": 59,
     "metadata": {},
     "output_type": "execute_result"
    }
   ],
   "source": [
    "stats.wilcoxon(data['FSIQ'], data['PIQ'])"
   ]
  },
  {
   "cell_type": "code",
   "execution_count": null,
   "id": "a468d8f7-9e16-4889-b346-414643592bf5",
   "metadata": {},
   "outputs": [],
   "source": []
  }
 ],
 "metadata": {
  "kernelspec": {
   "display_name": "Python 3 (ipykernel)",
   "language": "python",
   "name": "python3"
  },
  "language_info": {
   "codemirror_mode": {
    "name": "ipython",
    "version": 3
   },
   "file_extension": ".py",
   "mimetype": "text/x-python",
   "name": "python",
   "nbconvert_exporter": "python",
   "pygments_lexer": "ipython3",
   "version": "3.10.6"
  }
 },
 "nbformat": 4,
 "nbformat_minor": 5
}
